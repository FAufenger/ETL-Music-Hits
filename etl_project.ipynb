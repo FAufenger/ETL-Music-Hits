{
 "cells": [
  {
   "cell_type": "markdown",
   "metadata": {},
   "source": [
    "## ETL Project -  Top hits"
   ]
  },
  {
   "cell_type": "code",
   "execution_count": 1,
   "metadata": {},
   "outputs": [],
   "source": [
    "from splinter import Browser\n",
    "from bs4 import BeautifulSoup\n",
    "from webdriver_manager.chrome import ChromeDriverManager\n",
    "import pandas as pd\n",
    "import kaggle"
   ]
  },
  {
   "cell_type": "code",
   "execution_count": 2,
   "metadata": {},
   "outputs": [],
   "source": [
    "# Open desired site in browser with splinter\n",
    "executable_path = {'executable_path': 'chromedriver.exe'}\n",
    "browser = Browser('chrome', **executable_path, headless=True)"
   ]
  },
  {
   "cell_type": "markdown",
   "metadata": {},
   "source": [
    "## Insider - Scraping"
   ]
  },
  {
   "cell_type": "code",
   "execution_count": 3,
   "metadata": {},
   "outputs": [],
   "source": [
    "# HTML Object and Beautiful Soup Parseing\n",
    "url = 'https://www.insider.com/best-songs-every-year-2017-8'\n",
    "browser.visit(url)"
   ]
  },
  {
   "cell_type": "code",
   "execution_count": null,
   "metadata": {},
   "outputs": [],
   "source": [
    "# HTML Object and Beautiful Soup Parseing\n",
    "html = browser.html\n",
    "soup = BeautifulSoup(html, 'html.parser')"
   ]
  },
  {
   "cell_type": "code",
   "execution_count": 4,
   "metadata": {},
   "outputs": [
    {
     "ename": "NameError",
     "evalue": "name 'soup' is not defined",
     "output_type": "error",
     "traceback": [
      "\u001b[1;31m---------------------------------------------------------------------------\u001b[0m",
      "\u001b[1;31mNameError\u001b[0m                                 Traceback (most recent call last)",
      "\u001b[1;32m<ipython-input-4-43bb036612a2>\u001b[0m in \u001b[0;36m<module>\u001b[1;34m\u001b[0m\n\u001b[0;32m      1\u001b[0m \u001b[1;31m# Retrieve and collect all desired data\u001b[0m\u001b[1;33m\u001b[0m\u001b[1;33m\u001b[0m\u001b[1;33m\u001b[0m\u001b[0m\n\u001b[1;32m----> 2\u001b[1;33m \u001b[0minsider\u001b[0m \u001b[1;33m=\u001b[0m \u001b[0msoup\u001b[0m\u001b[1;33m.\u001b[0m\u001b[0mfind_all\u001b[0m\u001b[1;33m(\u001b[0m\u001b[1;34m'h2'\u001b[0m\u001b[1;33m,\u001b[0m \u001b[0mclass_\u001b[0m\u001b[1;33m=\u001b[0m\u001b[1;34m'slide-title-text'\u001b[0m\u001b[1;33m)\u001b[0m\u001b[1;33m\u001b[0m\u001b[1;33m\u001b[0m\u001b[0m\n\u001b[0m\u001b[0;32m      3\u001b[0m \u001b[1;33m\u001b[0m\u001b[0m\n\u001b[0;32m      4\u001b[0m \u001b[0minsider_list\u001b[0m \u001b[1;33m=\u001b[0m \u001b[1;33m[\u001b[0m\u001b[1;33m]\u001b[0m\u001b[1;33m\u001b[0m\u001b[1;33m\u001b[0m\u001b[0m\n\u001b[0;32m      5\u001b[0m \u001b[0mtemp_list\u001b[0m \u001b[1;33m=\u001b[0m \u001b[1;33m[\u001b[0m\u001b[1;33m]\u001b[0m\u001b[1;33m\u001b[0m\u001b[1;33m\u001b[0m\u001b[0m\n",
      "\u001b[1;31mNameError\u001b[0m: name 'soup' is not defined"
     ]
    }
   ],
   "source": [
    "# Retrieve and collect all desired data\n",
    "insider = soup.find_all('h2', class_='slide-title-text')\n",
    "\n",
    "insider_list = []\n",
    "temp_list = []\n",
    "\n",
    "for i in insider:\n",
    "    year = i.text.split(\":\")[0]\n",
    "    title= i.text.split(\":\")[1]\n",
    "    title = title.split(\"—\")[0]\n",
    "    artist = i.text.split(\"—\")[1]\n",
    "    temp_list.append(title)\n",
    "    temp_list.append(artist)\n",
    "    temp_list.append(year)\n",
    "    insider_list.append(temp_list)\n",
    "    temp_list = []\n",
    "    \n",
    "print(insider_list)"
   ]
  },
  {
   "cell_type": "code",
   "execution_count": null,
   "metadata": {},
   "outputs": [],
   "source": [
    "# Convert data into df and clean\n",
    "insider_df = pd.DataFrame(insider_list, columns = [\"Title\",\"Artist\", \"Year\"])\n",
    "insider_df[\"Source\"] = \"Insider #1 Song of Year\"\n",
    "insider_df.head()"
   ]
  },
  {
   "cell_type": "markdown",
   "metadata": {},
   "source": [
    "## Billboard - Scraping"
   ]
  },
  {
   "cell_type": "code",
   "execution_count": null,
   "metadata": {},
   "outputs": [],
   "source": [
    "# HTML Object and Beautiful Soup Parseing\n",
    "url = 'https://www.billboard.com/charts/decade-end/hot-100'\n",
    "browser.visit(url)"
   ]
  },
  {
   "cell_type": "code",
   "execution_count": null,
   "metadata": {},
   "outputs": [],
   "source": [
    "# HTML Object and Beautiful Soup Parseing\n",
    "html = browser.html\n",
    "soup = BeautifulSoup(html, 'html.parser')"
   ]
  },
  {
   "cell_type": "code",
   "execution_count": null,
   "metadata": {},
   "outputs": [],
   "source": [
    "# Scrape title data\n",
    "title = soup.find_all('div', class_='ye-chart-item__title')\n",
    "\n",
    "# Put each title into a list of lists\n",
    "title_list = []\n",
    "count = 0\n",
    "\n",
    "for i in title:\n",
    "    new_list = []\n",
    "    new_list.append(count)\n",
    "    new_list.append(i.text.replace(\"\\n\",\"\"))\n",
    "    title_list.append(new_list)\n",
    "    count += 1\n",
    "    \n",
    "# Convert title lsit to df\n",
    "title_df = pd.DataFrame(title_list, columns = [\"key\",\"Title\"])\n",
    "title_df.head()"
   ]
  },
  {
   "cell_type": "code",
   "execution_count": null,
   "metadata": {},
   "outputs": [],
   "source": [
    "# Scrape artist data\n",
    "artist = soup.find_all('div', class_='ye-chart-item__artist')\n",
    "\n",
    "# Put each artist into a list of lists\n",
    "artist_list = []\n",
    "count = 0\n",
    "\n",
    "for i in artist:\n",
    "    new_list = []\n",
    "    new_list.append(count)\n",
    "    new_list.append(i.text.replace(\"\\n\",\"\"))\n",
    "    artist_list.append(new_list)\n",
    "    count += 1\n",
    "\n",
    "# Convert artist list to df\n",
    "artist_df = pd.DataFrame(artist_list, columns = [\"key\",\"Artist\"])\n",
    "artist_df.head()"
   ]
  },
  {
   "cell_type": "code",
   "execution_count": null,
   "metadata": {},
   "outputs": [],
   "source": [
    "# Scrape date data\n",
    "date = soup.find_all('span', class_='decade-end-chart-item__peak-info-date')\n",
    "\n",
    "# Put each date into a list of lists\n",
    "date_list = []\n",
    "count = 0\n",
    "\n",
    "for i in date:\n",
    "    new_list = []\n",
    "    new_list.append(count)\n",
    "    new_list.append(i.text.replace(\"\\n\",\"\"))\n",
    "    date_list.append(new_list)\n",
    "    count += 1\n",
    "    \n",
    "# Convert date list to df\n",
    "date_df = pd.DataFrame(date_list, columns = [\"key\",\"Date\"])\n",
    "date_df = date_df['Date'].str[:4].reset_index()\n",
    "date_df.columns=[\"key\", \"Year\"]\n",
    "date_df.head()"
   ]
  },
  {
   "cell_type": "code",
   "execution_count": null,
   "metadata": {},
   "outputs": [],
   "source": [
    "# Merge all dfs into one for Billboard results\n",
    "billboard_partial_df = pd.merge(title_df, artist_df, on=\"key\")\n",
    "billboard_df = pd.merge(billboard_partial_df, date_df, on=\"key\")\n",
    "\n",
    "# Clean and add souce column \n",
    "del billboard_df[\"key\"]\n",
    "billboard_df[\"Source\"] = \"Billboard Top 100\"\n",
    "billboard_df.head()"
   ]
  },
  {
   "cell_type": "code",
   "execution_count": null,
   "metadata": {},
   "outputs": [],
   "source": [
    "# Finished scraping from the web, quit browser in background\n",
    "browser.quit()"
   ]
  },
  {
   "cell_type": "markdown",
   "metadata": {},
   "source": [
    "## Spotify/ Kaggle - csv"
   ]
  },
  {
   "cell_type": "code",
   "execution_count": null,
   "metadata": {},
   "outputs": [],
   "source": [
    "#API command used from Kaggle:\n",
    "kaggle_api = 'leonardopena/top-spotify-songs-from-20102019-by-year'\n",
    "\n",
    "# Import kaggle and place cvs into resources folder\n",
    "kaggle.api.authenticate()\n",
    "kaggle.api.dataset_download_files(kaggle_api, unzip=True, path='./Resources', quiet=True)"
   ]
  },
  {
   "cell_type": "code",
   "execution_count": null,
   "metadata": {},
   "outputs": [],
   "source": [
    "#Read file and store into pandas data frame\n",
    "spotify_raw_csv = \"./Resources/top10s.csv\"\n",
    "spotify_2010_2019_df = pd.read_csv(spotify_raw_csv, sep = ',', encoding='mac_roman')\n",
    "\n",
    "# Display head of data set to be sure it was loaded correctly\n",
    "spotify_2010_2019_df.head()"
   ]
  },
  {
   "cell_type": "code",
   "execution_count": null,
   "metadata": {},
   "outputs": [],
   "source": [
    "# Clean df\n",
    "spotify_clean_df = spotify_2010_2019_df[['title','artist' ,'year']].copy()\n",
    "spotify_clean_df.columns = ['Title', 'Artist', 'Year']\n",
    "spotify_clean_df['Source']='Spotify'\n",
    "spotify_clean_df.head()"
   ]
  },
  {
   "cell_type": "code",
   "execution_count": null,
   "metadata": {},
   "outputs": [],
   "source": []
  },
  {
   "cell_type": "markdown",
   "metadata": {},
   "source": [
    "## To come"
   ]
  },
  {
   "cell_type": "code",
   "execution_count": null,
   "metadata": {},
   "outputs": [],
   "source": [
    "#engine.table_names() "
   ]
  },
  {
   "cell_type": "code",
   "execution_count": null,
   "metadata": {},
   "outputs": [],
   "source": [
    "#new_customer_data_df.to_sql(name='customer_name', con=engine, if_exists='append', index=False)"
   ]
  },
  {
   "cell_type": "code",
   "execution_count": null,
   "metadata": {},
   "outputs": [],
   "source": [
    "#new_customer_location_df.to_sql(name='customer_location', con=engine, if_exists='append', index=False)"
   ]
  },
  {
   "cell_type": "code",
   "execution_count": null,
   "metadata": {},
   "outputs": [],
   "source": [
    "#pd.read_sql_query('select * from customer_name', con=engine).head()"
   ]
  },
  {
   "cell_type": "code",
   "execution_count": null,
   "metadata": {},
   "outputs": [],
   "source": []
  }
 ],
 "metadata": {
  "kernelspec": {
   "display_name": "Python [conda env:PythonData] *",
   "language": "python",
   "name": "conda-env-PythonData-py"
  },
  "language_info": {
   "codemirror_mode": {
    "name": "ipython",
    "version": 3
   },
   "file_extension": ".py",
   "mimetype": "text/x-python",
   "name": "python",
   "nbconvert_exporter": "python",
   "pygments_lexer": "ipython3",
   "version": "3.6.10"
  }
 },
 "nbformat": 4,
 "nbformat_minor": 4
}
